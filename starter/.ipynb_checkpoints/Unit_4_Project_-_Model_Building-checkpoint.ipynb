{
 "cells": [
  {
   "cell_type": "markdown",
   "id": "eebbc19f",
   "metadata": {},
   "source": [
    "# Unit 4 Project - Model Building "
   ]
  },
  {
   "cell_type": "markdown",
   "id": "0e314f76",
   "metadata": {},
   "source": [
    "# Part 1 - Learn Linear Regression Theory"
   ]
  },
  {
   "cell_type": "markdown",
   "id": "43b21b31",
   "metadata": {},
   "source": [
    "### Step 1: Describe Linear Regression Models "
   ]
  },
  {
   "cell_type": "markdown",
   "id": "146aec7e",
   "metadata": {},
   "source": [
    "Answer the following questions after reading the resource material and watching the video lectures linked in the Linear Regression Theory section:"
   ]
  },
  {
   "cell_type": "markdown",
   "id": "cc7b5db5",
   "metadata": {},
   "source": [
    "- In your own words, briefly describe a simple linear regression model.\n",
    "    -finding a pattern(line) between dependent and independent variables.\n",
    "- What type of machine learning is linear regression?\n",
    "    -supervised machine learning\n",
    "- What is a “line of best fit” using the OLS method?\n",
    "    -when the line has the smallest sum of residuals\n",
    "- What is the difference between correlation and regression?\n",
    "    -correlation is the strength of relationship between a dependent and independent variable, regression is trying to predict/estimate the correlation\n",
    "- Describe a scenario when you would use linear regression and why you would use it. \n",
    "    -you could use linear regression to estimate the future sales of a company. If sales have consistently increased in the past and all independent variable stay the same, then sales will continue to increase in the future at a specific rate.  \n"
   ]
  },
  {
   "cell_type": "markdown",
   "id": "fefd8893",
   "metadata": {},
   "source": [
    "### Step 2: Describe Linear Regression Assumptions "
   ]
  },
  {
   "cell_type": "markdown",
   "id": "4abd7e77",
   "metadata": {},
   "source": [
    "In your own words, describe the following linear regression assumptions after reading the resource material and watching the video lectures linked in the Linear Regression Theory section:"
   ]
  },
  {
   "cell_type": "markdown",
   "id": "2005712c",
   "metadata": {},
   "source": [
    "- Linearity - a dependent variables is related to independent variables.  when 1 increases so will the other or vise versa.\n",
    "- Normality - a normal distribution or bell-curve to see if data is modeled correctly\n",
    "- Homoscedasticity - an assumption that the difference in errors is constant\n",
    "- No multicollinearity - all variables should be independent of each other and have no correlation\n",
    "- No endogeneity - when the error term is normally distributed\n",
    "- No autocorrelation - all error terms are independent of each other"
   ]
  },
  {
   "cell_type": "markdown",
   "id": "1d61b124",
   "metadata": {},
   "source": [
    "### Step 3: Describe How to Interpret Results from Correlation Table in Model Summary "
   ]
  },
  {
   "cell_type": "markdown",
   "id": "84e72672",
   "metadata": {},
   "source": [
    "In your own words, describe the following terms after reading the resource material and watching the video lectures linked in the Linear Regression Theory section:"
   ]
  },
  {
   "cell_type": "markdown",
   "id": "63412327",
   "metadata": {},
   "source": [
    "- Coefficient of Constant / Intercept (b0) - where the dependent and independent variable connect (the data point)\n",
    "- Coefficient of Independent Variable (B1) - the slope\n",
    "- Standard Error - the difference between the actual value(data point) and the predicted value(regression line)\n",
    "- T-Statistic - how well the independent variable is correlated with the dependent variable...is it a good predictor\n",
    "- P-Value of T-Statistic (from the independent variable) - just another number to tell if the independent variable is a good predictor of the dependent variable\n"
   ]
  },
  {
   "cell_type": "markdown",
   "id": "36c3f83e",
   "metadata": {},
   "source": [
    "### Step 4:  Explain R-Squared and adjusted R-squared"
   ]
  },
  {
   "cell_type": "markdown",
   "id": "f3cda47b",
   "metadata": {},
   "source": [
    "In your own words, describe the following terms after reading the resource material and watching the video lectures linked in the Linear Regression Theory section:"
   ]
  },
  {
   "cell_type": "markdown",
   "id": "493a011c",
   "metadata": {},
   "source": [
    "- R-squared - regression difference divided by dataset difference, the closer to 1 the better - a percentage of how much of the total difference is represents - how well the model fits your data\n",
    "- Adjusted R-squared - making sure all independent variables have value with the data - the closer to 1 the better - basis for comparing models\n"
   ]
  },
  {
   "cell_type": "markdown",
   "id": "e365eb29",
   "metadata": {},
   "source": [
    "# Part 2 - Linear Regression in Practice"
   ]
  },
  {
   "cell_type": "markdown",
   "id": "fe1421ad",
   "metadata": {},
   "source": [
    "### Step 1: Import libraries and load dataset"
   ]
  },
  {
   "cell_type": "code",
   "execution_count": 1,
   "id": "455d7c79",
   "metadata": {},
   "outputs": [],
   "source": [
    "import pandas as pd\n",
    "import numpy as np\n",
    "import matplotlib.pyplot as plt\n",
    "import seaborn as sns\n",
    "import statsmodels.api as sm\n",
    "%matplotlib inline\n",
    "sns.set()\n",
    "\n",
    "from sklearn.linear_model import LinearRegression"
   ]
  },
  {
   "cell_type": "code",
   "execution_count": 2,
   "id": "5c17971f",
   "metadata": {},
   "outputs": [],
   "source": [
    "pd.set_option('display.float_format', lambda x:'%.2f'%x) #supress scientific notation"
   ]
  },
  {
   "cell_type": "code",
   "execution_count": 3,
   "id": "ef01e3da",
   "metadata": {},
   "outputs": [
    {
     "data": {
      "text/html": [
       "<div>\n",
       "<style scoped>\n",
       "    .dataframe tbody tr th:only-of-type {\n",
       "        vertical-align: middle;\n",
       "    }\n",
       "\n",
       "    .dataframe tbody tr th {\n",
       "        vertical-align: top;\n",
       "    }\n",
       "\n",
       "    .dataframe thead th {\n",
       "        text-align: right;\n",
       "    }\n",
       "</style>\n",
       "<table border=\"1\" class=\"dataframe\">\n",
       "  <thead>\n",
       "    <tr style=\"text-align: right;\">\n",
       "      <th></th>\n",
       "      <th>id</th>\n",
       "      <th>date</th>\n",
       "      <th>price</th>\n",
       "      <th>bedrooms</th>\n",
       "      <th>bathrooms</th>\n",
       "      <th>sqft_living</th>\n",
       "      <th>sqft_lot</th>\n",
       "      <th>floors</th>\n",
       "      <th>waterfront</th>\n",
       "      <th>view</th>\n",
       "      <th>house_condition</th>\n",
       "      <th>grade</th>\n",
       "      <th>sqft_above</th>\n",
       "      <th>sqft_basement</th>\n",
       "      <th>year_built</th>\n",
       "      <th>zipcode</th>\n",
       "      <th>lat</th>\n",
       "      <th>long</th>\n",
       "      <th>sqft_living_15</th>\n",
       "    </tr>\n",
       "  </thead>\n",
       "  <tbody>\n",
       "    <tr>\n",
       "      <th>0</th>\n",
       "      <td>7129300520</td>\n",
       "      <td>2014-10-13</td>\n",
       "      <td>221900.00</td>\n",
       "      <td>3</td>\n",
       "      <td>1.00</td>\n",
       "      <td>1180</td>\n",
       "      <td>5650.00</td>\n",
       "      <td>1.00</td>\n",
       "      <td>0</td>\n",
       "      <td>1</td>\n",
       "      <td>3</td>\n",
       "      <td>7.00</td>\n",
       "      <td>1180.00</td>\n",
       "      <td>0</td>\n",
       "      <td>1955.00</td>\n",
       "      <td>98178.00</td>\n",
       "      <td>47.51</td>\n",
       "      <td>-122.26</td>\n",
       "      <td>1340</td>\n",
       "    </tr>\n",
       "    <tr>\n",
       "      <th>1</th>\n",
       "      <td>6414100192</td>\n",
       "      <td>2014-12-09</td>\n",
       "      <td>538000.00</td>\n",
       "      <td>3</td>\n",
       "      <td>2.25</td>\n",
       "      <td>2570</td>\n",
       "      <td>7242.00</td>\n",
       "      <td>2.00</td>\n",
       "      <td>0</td>\n",
       "      <td>1</td>\n",
       "      <td>3</td>\n",
       "      <td>7.00</td>\n",
       "      <td>2170.00</td>\n",
       "      <td>400</td>\n",
       "      <td>1951.00</td>\n",
       "      <td>98125.00</td>\n",
       "      <td>47.72</td>\n",
       "      <td>-122.32</td>\n",
       "      <td>1690</td>\n",
       "    </tr>\n",
       "    <tr>\n",
       "      <th>2</th>\n",
       "      <td>5631500400</td>\n",
       "      <td>2015-02-25</td>\n",
       "      <td>180000.00</td>\n",
       "      <td>2</td>\n",
       "      <td>1.00</td>\n",
       "      <td>770</td>\n",
       "      <td>10000.00</td>\n",
       "      <td>1.00</td>\n",
       "      <td>0</td>\n",
       "      <td>1</td>\n",
       "      <td>3</td>\n",
       "      <td>6.00</td>\n",
       "      <td>770.00</td>\n",
       "      <td>0</td>\n",
       "      <td>1933.00</td>\n",
       "      <td>98028.00</td>\n",
       "      <td>47.74</td>\n",
       "      <td>-122.23</td>\n",
       "      <td>2720</td>\n",
       "    </tr>\n",
       "    <tr>\n",
       "      <th>3</th>\n",
       "      <td>2487200875</td>\n",
       "      <td>2014-12-09</td>\n",
       "      <td>604000.00</td>\n",
       "      <td>4</td>\n",
       "      <td>3.00</td>\n",
       "      <td>1960</td>\n",
       "      <td>5000.00</td>\n",
       "      <td>1.00</td>\n",
       "      <td>0</td>\n",
       "      <td>1</td>\n",
       "      <td>5</td>\n",
       "      <td>7.00</td>\n",
       "      <td>1050.00</td>\n",
       "      <td>910</td>\n",
       "      <td>1965.00</td>\n",
       "      <td>98136.00</td>\n",
       "      <td>47.52</td>\n",
       "      <td>-122.39</td>\n",
       "      <td>1360</td>\n",
       "    </tr>\n",
       "    <tr>\n",
       "      <th>4</th>\n",
       "      <td>1954400510</td>\n",
       "      <td>2015-02-18</td>\n",
       "      <td>510000.00</td>\n",
       "      <td>3</td>\n",
       "      <td>2.00</td>\n",
       "      <td>1680</td>\n",
       "      <td>8080.00</td>\n",
       "      <td>1.00</td>\n",
       "      <td>0</td>\n",
       "      <td>1</td>\n",
       "      <td>3</td>\n",
       "      <td>8.00</td>\n",
       "      <td>1680.00</td>\n",
       "      <td>0</td>\n",
       "      <td>1987.00</td>\n",
       "      <td>98074.00</td>\n",
       "      <td>47.62</td>\n",
       "      <td>-122.05</td>\n",
       "      <td>1800</td>\n",
       "    </tr>\n",
       "  </tbody>\n",
       "</table>\n",
       "</div>"
      ],
      "text/plain": [
       "           id        date     price  bedrooms  bathrooms  sqft_living  \\\n",
       "0  7129300520  2014-10-13 221900.00         3       1.00         1180   \n",
       "1  6414100192  2014-12-09 538000.00         3       2.25         2570   \n",
       "2  5631500400  2015-02-25 180000.00         2       1.00          770   \n",
       "3  2487200875  2014-12-09 604000.00         4       3.00         1960   \n",
       "4  1954400510  2015-02-18 510000.00         3       2.00         1680   \n",
       "\n",
       "   sqft_lot  floors  waterfront  view  house_condition  grade  sqft_above  \\\n",
       "0   5650.00    1.00           0     1                3   7.00     1180.00   \n",
       "1   7242.00    2.00           0     1                3   7.00     2170.00   \n",
       "2  10000.00    1.00           0     1                3   6.00      770.00   \n",
       "3   5000.00    1.00           0     1                5   7.00     1050.00   \n",
       "4   8080.00    1.00           0     1                3   8.00     1680.00   \n",
       "\n",
       "   sqft_basement  year_built  zipcode   lat    long  sqft_living_15  \n",
       "0              0     1955.00 98178.00 47.51 -122.26            1340  \n",
       "1            400     1951.00 98125.00 47.72 -122.32            1690  \n",
       "2              0     1933.00 98028.00 47.74 -122.23            2720  \n",
       "3            910     1965.00 98136.00 47.52 -122.39            1360  \n",
       "4              0     1987.00 98074.00 47.62 -122.05            1800  "
      ]
     },
     "execution_count": 3,
     "metadata": {},
     "output_type": "execute_result"
    }
   ],
   "source": [
    "df=pd.read_csv('house_data.csv')\n",
    "df.head()"
   ]
  },
  {
   "cell_type": "markdown",
   "id": "2ee41601",
   "metadata": {},
   "source": [
    "### Step 2: Explore the data "
   ]
  },
  {
   "cell_type": "markdown",
   "id": "b8349c00",
   "metadata": {},
   "source": [
    "#### Spend time exploring the data and looking for relationships between variables. "
   ]
  },
  {
   "cell_type": "code",
   "execution_count": 4,
   "id": "30bae650",
   "metadata": {},
   "outputs": [
    {
     "name": "stdout",
     "output_type": "stream",
     "text": [
      "<class 'pandas.core.frame.DataFrame'>\n",
      "RangeIndex: 20456 entries, 0 to 20455\n",
      "Data columns (total 19 columns):\n",
      " #   Column           Non-Null Count  Dtype  \n",
      "---  ------           --------------  -----  \n",
      " 0   id               20456 non-null  int64  \n",
      " 1   date             20456 non-null  object \n",
      " 2   price            20456 non-null  float64\n",
      " 3   bedrooms         20456 non-null  int64  \n",
      " 4   bathrooms        20456 non-null  float64\n",
      " 5   sqft_living      20456 non-null  int64  \n",
      " 6   sqft_lot         20456 non-null  float64\n",
      " 7   floors           20456 non-null  float64\n",
      " 8   waterfront       20456 non-null  int64  \n",
      " 9   view             20456 non-null  int64  \n",
      " 10  house_condition  20456 non-null  int64  \n",
      " 11  grade            20456 non-null  float64\n",
      " 12  sqft_above       20456 non-null  float64\n",
      " 13  sqft_basement    20456 non-null  int64  \n",
      " 14  year_built       20456 non-null  float64\n",
      " 15  zipcode          20452 non-null  float64\n",
      " 16  lat              20456 non-null  float64\n",
      " 17  long             20456 non-null  float64\n",
      " 18  sqft_living_15   20456 non-null  int64  \n",
      "dtypes: float64(10), int64(8), object(1)\n",
      "memory usage: 3.0+ MB\n"
     ]
    }
   ],
   "source": [
    "df.info()"
   ]
  },
  {
   "cell_type": "code",
   "execution_count": 5,
   "id": "6ed1b2a6",
   "metadata": {},
   "outputs": [
    {
     "data": {
      "text/html": [
       "<div>\n",
       "<style scoped>\n",
       "    .dataframe tbody tr th:only-of-type {\n",
       "        vertical-align: middle;\n",
       "    }\n",
       "\n",
       "    .dataframe tbody tr th {\n",
       "        vertical-align: top;\n",
       "    }\n",
       "\n",
       "    .dataframe thead th {\n",
       "        text-align: right;\n",
       "    }\n",
       "</style>\n",
       "<table border=\"1\" class=\"dataframe\">\n",
       "  <thead>\n",
       "    <tr style=\"text-align: right;\">\n",
       "      <th></th>\n",
       "      <th>id</th>\n",
       "      <th>price</th>\n",
       "      <th>bedrooms</th>\n",
       "      <th>bathrooms</th>\n",
       "      <th>sqft_living</th>\n",
       "      <th>sqft_lot</th>\n",
       "      <th>floors</th>\n",
       "      <th>waterfront</th>\n",
       "      <th>view</th>\n",
       "      <th>house_condition</th>\n",
       "      <th>grade</th>\n",
       "      <th>sqft_above</th>\n",
       "      <th>sqft_basement</th>\n",
       "      <th>year_built</th>\n",
       "      <th>zipcode</th>\n",
       "      <th>lat</th>\n",
       "      <th>long</th>\n",
       "      <th>sqft_living_15</th>\n",
       "    </tr>\n",
       "  </thead>\n",
       "  <tbody>\n",
       "    <tr>\n",
       "      <th>count</th>\n",
       "      <td>20456.00</td>\n",
       "      <td>20456.00</td>\n",
       "      <td>20456.00</td>\n",
       "      <td>20456.00</td>\n",
       "      <td>20456.00</td>\n",
       "      <td>20456.00</td>\n",
       "      <td>20456.00</td>\n",
       "      <td>20456.00</td>\n",
       "      <td>20456.00</td>\n",
       "      <td>20456.00</td>\n",
       "      <td>20456.00</td>\n",
       "      <td>20456.00</td>\n",
       "      <td>20456.00</td>\n",
       "      <td>20456.00</td>\n",
       "      <td>20452.00</td>\n",
       "      <td>20456.00</td>\n",
       "      <td>20456.00</td>\n",
       "      <td>20456.00</td>\n",
       "    </tr>\n",
       "    <tr>\n",
       "      <th>mean</th>\n",
       "      <td>4634802428.15</td>\n",
       "      <td>486335.50</td>\n",
       "      <td>3.31</td>\n",
       "      <td>2.03</td>\n",
       "      <td>1942.12</td>\n",
       "      <td>10302.51</td>\n",
       "      <td>1.47</td>\n",
       "      <td>0.00</td>\n",
       "      <td>1.18</td>\n",
       "      <td>3.41</td>\n",
       "      <td>7.51</td>\n",
       "      <td>1679.18</td>\n",
       "      <td>262.89</td>\n",
       "      <td>1969.99</td>\n",
       "      <td>95297.06</td>\n",
       "      <td>47.56</td>\n",
       "      <td>-122.22</td>\n",
       "      <td>1902.21</td>\n",
       "    </tr>\n",
       "    <tr>\n",
       "      <th>std</th>\n",
       "      <td>2877503809.85</td>\n",
       "      <td>239842.35</td>\n",
       "      <td>0.86</td>\n",
       "      <td>0.69</td>\n",
       "      <td>724.35</td>\n",
       "      <td>12700.28</td>\n",
       "      <td>0.54</td>\n",
       "      <td>0.06</td>\n",
       "      <td>0.66</td>\n",
       "      <td>0.65</td>\n",
       "      <td>1.03</td>\n",
       "      <td>683.12</td>\n",
       "      <td>390.86</td>\n",
       "      <td>29.36</td>\n",
       "      <td>15428.24</td>\n",
       "      <td>0.14</td>\n",
       "      <td>0.14</td>\n",
       "      <td>585.14</td>\n",
       "    </tr>\n",
       "    <tr>\n",
       "      <th>min</th>\n",
       "      <td>1000102.00</td>\n",
       "      <td>3209.00</td>\n",
       "      <td>1.00</td>\n",
       "      <td>0.00</td>\n",
       "      <td>370.00</td>\n",
       "      <td>520.00</td>\n",
       "      <td>1.00</td>\n",
       "      <td>0.00</td>\n",
       "      <td>1.00</td>\n",
       "      <td>1.00</td>\n",
       "      <td>3.00</td>\n",
       "      <td>300.00</td>\n",
       "      <td>0.00</td>\n",
       "      <td>1900.00</td>\n",
       "      <td>9801.00</td>\n",
       "      <td>47.16</td>\n",
       "      <td>-122.51</td>\n",
       "      <td>399.00</td>\n",
       "    </tr>\n",
       "    <tr>\n",
       "      <th>25%</th>\n",
       "      <td>2161850135.00</td>\n",
       "      <td>312000.00</td>\n",
       "      <td>3.00</td>\n",
       "      <td>1.50</td>\n",
       "      <td>1390.00</td>\n",
       "      <td>5000.00</td>\n",
       "      <td>1.00</td>\n",
       "      <td>0.00</td>\n",
       "      <td>1.00</td>\n",
       "      <td>3.00</td>\n",
       "      <td>7.00</td>\n",
       "      <td>1170.00</td>\n",
       "      <td>0.00</td>\n",
       "      <td>1950.75</td>\n",
       "      <td>98032.00</td>\n",
       "      <td>47.47</td>\n",
       "      <td>-122.33</td>\n",
       "      <td>1460.00</td>\n",
       "    </tr>\n",
       "    <tr>\n",
       "      <th>50%</th>\n",
       "      <td>3992700330.50</td>\n",
       "      <td>435000.00</td>\n",
       "      <td>3.00</td>\n",
       "      <td>2.00</td>\n",
       "      <td>1840.00</td>\n",
       "      <td>7412.00</td>\n",
       "      <td>1.00</td>\n",
       "      <td>0.00</td>\n",
       "      <td>1.00</td>\n",
       "      <td>3.00</td>\n",
       "      <td>7.00</td>\n",
       "      <td>1500.00</td>\n",
       "      <td>0.00</td>\n",
       "      <td>1972.00</td>\n",
       "      <td>98072.00</td>\n",
       "      <td>47.57</td>\n",
       "      <td>-122.24</td>\n",
       "      <td>1790.00</td>\n",
       "    </tr>\n",
       "    <tr>\n",
       "      <th>75%</th>\n",
       "      <td>7387500205.00</td>\n",
       "      <td>602000.00</td>\n",
       "      <td>4.00</td>\n",
       "      <td>2.50</td>\n",
       "      <td>2410.00</td>\n",
       "      <td>10022.25</td>\n",
       "      <td>2.00</td>\n",
       "      <td>0.00</td>\n",
       "      <td>1.00</td>\n",
       "      <td>4.00</td>\n",
       "      <td>8.00</td>\n",
       "      <td>2080.00</td>\n",
       "      <td>520.00</td>\n",
       "      <td>1995.00</td>\n",
       "      <td>98118.00</td>\n",
       "      <td>47.68</td>\n",
       "      <td>-122.13</td>\n",
       "      <td>2260.00</td>\n",
       "    </tr>\n",
       "    <tr>\n",
       "      <th>max</th>\n",
       "      <td>9900000190.00</td>\n",
       "      <td>1640000.00</td>\n",
       "      <td>6.00</td>\n",
       "      <td>4.25</td>\n",
       "      <td>4600.00</td>\n",
       "      <td>133729.00</td>\n",
       "      <td>3.50</td>\n",
       "      <td>1.00</td>\n",
       "      <td>5.00</td>\n",
       "      <td>5.00</td>\n",
       "      <td>12.00</td>\n",
       "      <td>3960.00</td>\n",
       "      <td>1540.00</td>\n",
       "      <td>2050.00</td>\n",
       "      <td>98199.00</td>\n",
       "      <td>47.78</td>\n",
       "      <td>-121.32</td>\n",
       "      <td>3790.00</td>\n",
       "    </tr>\n",
       "  </tbody>\n",
       "</table>\n",
       "</div>"
      ],
      "text/plain": [
       "                 id      price  bedrooms  bathrooms  sqft_living  sqft_lot  \\\n",
       "count      20456.00   20456.00  20456.00   20456.00     20456.00  20456.00   \n",
       "mean  4634802428.15  486335.50      3.31       2.03      1942.12  10302.51   \n",
       "std   2877503809.85  239842.35      0.86       0.69       724.35  12700.28   \n",
       "min      1000102.00    3209.00      1.00       0.00       370.00    520.00   \n",
       "25%   2161850135.00  312000.00      3.00       1.50      1390.00   5000.00   \n",
       "50%   3992700330.50  435000.00      3.00       2.00      1840.00   7412.00   \n",
       "75%   7387500205.00  602000.00      4.00       2.50      2410.00  10022.25   \n",
       "max   9900000190.00 1640000.00      6.00       4.25      4600.00 133729.00   \n",
       "\n",
       "        floors  waterfront     view  house_condition    grade  sqft_above  \\\n",
       "count 20456.00    20456.00 20456.00         20456.00 20456.00    20456.00   \n",
       "mean      1.47        0.00     1.18             3.41     7.51     1679.18   \n",
       "std       0.54        0.06     0.66             0.65     1.03      683.12   \n",
       "min       1.00        0.00     1.00             1.00     3.00      300.00   \n",
       "25%       1.00        0.00     1.00             3.00     7.00     1170.00   \n",
       "50%       1.00        0.00     1.00             3.00     7.00     1500.00   \n",
       "75%       2.00        0.00     1.00             4.00     8.00     2080.00   \n",
       "max       3.50        1.00     5.00             5.00    12.00     3960.00   \n",
       "\n",
       "       sqft_basement  year_built  zipcode      lat     long  sqft_living_15  \n",
       "count       20456.00    20456.00 20452.00 20456.00 20456.00        20456.00  \n",
       "mean          262.89     1969.99 95297.06    47.56  -122.22         1902.21  \n",
       "std           390.86       29.36 15428.24     0.14     0.14          585.14  \n",
       "min             0.00     1900.00  9801.00    47.16  -122.51          399.00  \n",
       "25%             0.00     1950.75 98032.00    47.47  -122.33         1460.00  \n",
       "50%             0.00     1972.00 98072.00    47.57  -122.24         1790.00  \n",
       "75%           520.00     1995.00 98118.00    47.68  -122.13         2260.00  \n",
       "max          1540.00     2050.00 98199.00    47.78  -121.32         3790.00  "
      ]
     },
     "execution_count": 5,
     "metadata": {},
     "output_type": "execute_result"
    }
   ],
   "source": [
    "round(df.describe(),2)"
   ]
  },
  {
   "cell_type": "code",
   "execution_count": 6,
   "id": "e3d93ab3",
   "metadata": {},
   "outputs": [],
   "source": [
    "#sns.pairplot(df);"
   ]
  },
  {
   "cell_type": "code",
   "execution_count": 7,
   "id": "03289626",
   "metadata": {},
   "outputs": [],
   "source": [
    "corr_matrix = df.corr(method='pearson') #closer to 1 or -1 the stronger the relationship"
   ]
  },
  {
   "cell_type": "code",
   "execution_count": 8,
   "id": "48c52453",
   "metadata": {},
   "outputs": [
    {
     "data": {
      "image/png": "[encoded data removed]",
      "text/plain": [
       "<Figure size 640x480 with 2 Axes>"
      ]
     },
     "metadata": {},
     "output_type": "display_data"
    }
   ],
   "source": [
    "sns.heatmap(corr_matrix, cmap='RdBu_r',vmax=1, vmin=-1);"
   ]
  },
  {
   "cell_type": "code",
   "execution_count": 76,
   "id": "15d7000c",
   "metadata": {},
   "outputs": [],
   "source": [
    "y_corr = corr_matrix.price"
   ]
  },
  {
   "cell_type": "code",
   "execution_count": 77,
   "id": "d1c2c16e",
   "metadata": {},
   "outputs": [
    {
     "data": {
      "text/plain": [
       "(18,)"
      ]
     },
     "execution_count": 77,
     "metadata": {},
     "output_type": "execute_result"
    }
   ],
   "source": [
    "y_corr.shape"
   ]
  },
  {
   "cell_type": "code",
   "execution_count": 80,
   "id": "be738aa1",
   "metadata": {},
   "outputs": [],
   "source": [
    "y_corr=y_corr.values.reshape((-1,1))"
   ]
  },
  {
   "cell_type": "code",
   "execution_count": 81,
   "id": "913dafcb",
   "metadata": {},
   "outputs": [
    {
     "data": {
      "text/plain": [
       "(18, 1)"
      ]
     },
     "execution_count": 81,
     "metadata": {},
     "output_type": "execute_result"
    }
   ],
   "source": [
    "y_corr.shape"
   ]
  },
  {
   "cell_type": "code",
   "execution_count": 82,
   "id": "ac26aeaf",
   "metadata": {},
   "outputs": [
    {
     "data": {
      "text/plain": [
       "Index(['id', 'date', 'price', 'bedrooms', 'bathrooms', 'sqft_living',\n",
       "       'sqft_lot', 'floors', 'waterfront', 'view', 'house_condition', 'grade',\n",
       "       'sqft_above', 'sqft_basement', 'year_built', 'zipcode', 'lat', 'long',\n",
       "       'sqft_living_15'],\n",
       "      dtype='object')"
      ]
     },
     "execution_count": 82,
     "metadata": {},
     "output_type": "execute_result"
    }
   ],
   "source": [
    "df.columns"
   ]
  },
  {
   "cell_type": "code",
   "execution_count": 83,
   "id": "4eaa10f1",
   "metadata": {},
   "outputs": [
    {
     "data": {
      "image/png": "[encoded data removed]",
      "text/plain": [
       "<Figure size 640x480 with 2 Axes>"
      ]
     },
     "metadata": {},
     "output_type": "display_data"
    }
   ],
   "source": [
    "ax=sns.heatmap(y_corr, cmap='RdBu_r',vmax=1, vmin=-1, yticklabels=('date', 'price', 'bedrooms', 'bathrooms', 'sqft_living',\n",
    "       'sqft_lot', 'floors', 'waterfront', 'view', 'house_condition', 'grade',\n",
    "       'sqft_above', 'sqft_basement', 'year_built', 'zipcode', 'lat', 'long',\n",
    "       'sqft_living_15'), annot=True, xticklabels='')\n",
    "plt.title('House Price Correlation')\n",
    "ax.set(xlabel='price');\n"
   ]
  },
  {
   "cell_type": "markdown",
   "id": "3eea19eb",
   "metadata": {},
   "source": [
    "### Step 3: Determine independent and dependent variable"
   ]
  },
  {
   "cell_type": "code",
   "execution_count": 152,
   "id": "8138e69a",
   "metadata": {},
   "outputs": [],
   "source": [
    "# set X - independent (sqft_living)\n",
    "x=round(df.grade,0)\n",
    "# set Y - dependent (price)\n",
    "y=round(df.price,0)"
   ]
  },
  {
   "cell_type": "code",
   "execution_count": 162,
   "id": "6820160a",
   "metadata": {},
   "outputs": [
    {
     "data": {
      "image/png": "[encoded data removed]",
      "text/plain": [
       "<Figure size 640x480 with 1 Axes>"
      ]
     },
     "metadata": {},
     "output_type": "display_data"
    }
   ],
   "source": [
    "# visualize relationship between X and Y\n",
    "sns.barplot(x=x,y=y);\n"
   ]
  },
  {
   "cell_type": "markdown",
   "id": "7aad8890",
   "metadata": {},
   "source": [
    "### Step 4: Fit Regression "
   ]
  },
  {
   "cell_type": "markdown",
   "id": "21c6a9b7",
   "metadata": {},
   "source": [
    "Solution below is for example only. Results may vary depending on variables chosen by student to use in linear regression model and which statistical package is used for linear regression model."
   ]
  },
  {
   "cell_type": "code",
   "execution_count": 121,
   "id": "87025c16",
   "metadata": {},
   "outputs": [],
   "source": [
    "# fit model to X and Y variables (you will need to make more cells)"
   ]
  },
  {
   "cell_type": "code",
   "execution_count": 122,
   "id": "30ac2650",
   "metadata": {},
   "outputs": [
    {
     "data": {
      "text/plain": [
       "((20456,), (20456,))"
      ]
     },
     "execution_count": 122,
     "metadata": {},
     "output_type": "execute_result"
    }
   ],
   "source": [
    "x.shape, y.shape"
   ]
  },
  {
   "cell_type": "code",
   "execution_count": 123,
   "id": "02beaa60",
   "metadata": {},
   "outputs": [],
   "source": [
    "x_matrix, y_matrix =x.values.reshape(-1,1), y.values.reshape(-1,1)"
   ]
  },
  {
   "cell_type": "code",
   "execution_count": 124,
   "id": "5c58547a",
   "metadata": {},
   "outputs": [
    {
     "data": {
      "text/plain": [
       "((20456, 1), (20456, 1))"
      ]
     },
     "execution_count": 124,
     "metadata": {},
     "output_type": "execute_result"
    }
   ],
   "source": [
    "x_matrix.shape, y_matrix.shape"
   ]
  },
  {
   "cell_type": "code",
   "execution_count": 125,
   "id": "77349e71",
   "metadata": {},
   "outputs": [],
   "source": [
    "reg=LinearRegression() #using sklearn"
   ]
  },
  {
   "cell_type": "code",
   "execution_count": 126,
   "id": "17cc9809",
   "metadata": {},
   "outputs": [
    {
     "data": {
      "text/plain": [
       "LinearRegression()"
      ]
     },
     "execution_count": 126,
     "metadata": {},
     "output_type": "execute_result"
    }
   ],
   "source": [
    "reg.fit(x_matrix,y_matrix)"
   ]
  },
  {
   "cell_type": "code",
   "execution_count": 127,
   "id": "1be0424f",
   "metadata": {},
   "outputs": [],
   "source": [
    "x_matrix2=sm.add_constant(x) #using statsmodel"
   ]
  },
  {
   "cell_type": "code",
   "execution_count": 128,
   "id": "373d80d6",
   "metadata": {},
   "outputs": [
    {
     "data": {
      "text/plain": [
       "(20456, 2)"
      ]
     },
     "execution_count": 128,
     "metadata": {},
     "output_type": "execute_result"
    }
   ],
   "source": [
    "x_matrix2.shape"
   ]
  },
  {
   "cell_type": "code",
   "execution_count": 129,
   "id": "b3bb803e",
   "metadata": {},
   "outputs": [],
   "source": [
    "model=sm.OLS(y,x_matrix2).fit()"
   ]
  },
  {
   "cell_type": "markdown",
   "id": "86eb0c71",
   "metadata": {},
   "source": [
    "### Step 5: Interpret Model Summary "
   ]
  },
  {
   "cell_type": "code",
   "execution_count": 130,
   "id": "db827182",
   "metadata": {},
   "outputs": [
    {
     "data": {
      "text/html": [
       "<table class=\"simpletable\">\n",
       "<caption>OLS Regression Results</caption>\n",
       "<tr>\n",
       "  <th>Dep. Variable:</th>          <td>price</td>      <th>  R-squared:         </th>  <td>   0.376</td>  \n",
       "</tr>\n",
       "<tr>\n",
       "  <th>Model:</th>                   <td>OLS</td>       <th>  Adj. R-squared:    </th>  <td>   0.376</td>  \n",
       "</tr>\n",
       "<tr>\n",
       "  <th>Method:</th>             <td>Least Squares</td>  <th>  F-statistic:       </th>  <td>1.231e+04</td> \n",
       "</tr>\n",
       "<tr>\n",
       "  <th>Date:</th>             <td>Tue, 01 Nov 2022</td> <th>  Prob (F-statistic):</th>   <td>  0.00</td>   \n",
       "</tr>\n",
       "<tr>\n",
       "  <th>Time:</th>                 <td>13:11:13</td>     <th>  Log-Likelihood:    </th> <td>-2.7761e+05</td>\n",
       "</tr>\n",
       "<tr>\n",
       "  <th>No. Observations:</th>      <td> 20456</td>      <th>  AIC:               </th>  <td>5.552e+05</td> \n",
       "</tr>\n",
       "<tr>\n",
       "  <th>Df Residuals:</th>          <td> 20454</td>      <th>  BIC:               </th>  <td>5.552e+05</td> \n",
       "</tr>\n",
       "<tr>\n",
       "  <th>Df Model:</th>              <td>     1</td>      <th>                     </th>      <td> </td>     \n",
       "</tr>\n",
       "<tr>\n",
       "  <th>Covariance Type:</th>      <td>nonrobust</td>    <th>                     </th>      <td> </td>     \n",
       "</tr>\n",
       "</table>\n",
       "<table class=\"simpletable\">\n",
       "<tr>\n",
       "       <td></td>          <th>coef</th>     <th>std err</th>      <th>t</th>      <th>P>|t|</th>  <th>[0.025</th>    <th>0.975]</th>  \n",
       "</tr>\n",
       "<tr>\n",
       "  <th>const</th>       <td> 9.213e+04</td> <td> 3791.541</td> <td>   24.298</td> <td> 0.000</td> <td> 8.47e+04</td> <td> 9.96e+04</td>\n",
       "</tr>\n",
       "<tr>\n",
       "  <th>sqft_living</th> <td>  202.9775</td> <td>    1.829</td> <td>  110.966</td> <td> 0.000</td> <td>  199.392</td> <td>  206.563</td>\n",
       "</tr>\n",
       "</table>\n",
       "<table class=\"simpletable\">\n",
       "<tr>\n",
       "  <th>Omnibus:</th>       <td>3900.816</td> <th>  Durbin-Watson:     </th> <td>   1.934</td>\n",
       "</tr>\n",
       "<tr>\n",
       "  <th>Prob(Omnibus):</th>  <td> 0.000</td>  <th>  Jarque-Bera (JB):  </th> <td>9054.676</td>\n",
       "</tr>\n",
       "<tr>\n",
       "  <th>Skew:</th>           <td> 1.084</td>  <th>  Prob(JB):          </th> <td>    0.00</td>\n",
       "</tr>\n",
       "<tr>\n",
       "  <th>Kurtosis:</th>       <td> 5.434</td>  <th>  Cond. No.          </th> <td>5.93e+03</td>\n",
       "</tr>\n",
       "</table><br/><br/>Notes:<br/>[1] Standard Errors assume that the covariance matrix of the errors is correctly specified.<br/>[2] The condition number is large, 5.93e+03. This might indicate that there are<br/>strong multicollinearity or other numerical problems."
      ],
      "text/plain": [
       "<class 'statsmodels.iolib.summary.Summary'>\n",
       "\"\"\"\n",
       "                            OLS Regression Results                            \n",
       "==============================================================================\n",
       "Dep. Variable:                  price   R-squared:                       0.376\n",
       "Model:                            OLS   Adj. R-squared:                  0.376\n",
       "Method:                 Least Squares   F-statistic:                 1.231e+04\n",
       "Date:                Tue, 01 Nov 2022   Prob (F-statistic):               0.00\n",
       "Time:                        13:11:13   Log-Likelihood:            -2.7761e+05\n",
       "No. Observations:               20456   AIC:                         5.552e+05\n",
       "Df Residuals:                   20454   BIC:                         5.552e+05\n",
       "Df Model:                           1                                         \n",
       "Covariance Type:            nonrobust                                         \n",
       "===============================================================================\n",
       "                  coef    std err          t      P>|t|      [0.025      0.975]\n",
       "-------------------------------------------------------------------------------\n",
       "const        9.213e+04   3791.541     24.298      0.000    8.47e+04    9.96e+04\n",
       "sqft_living   202.9775      1.829    110.966      0.000     199.392     206.563\n",
       "==============================================================================\n",
       "Omnibus:                     3900.816   Durbin-Watson:                   1.934\n",
       "Prob(Omnibus):                  0.000   Jarque-Bera (JB):             9054.676\n",
       "Skew:                           1.084   Prob(JB):                         0.00\n",
       "Kurtosis:                       5.434   Cond. No.                     5.93e+03\n",
       "==============================================================================\n",
       "\n",
       "Notes:\n",
       "[1] Standard Errors assume that the covariance matrix of the errors is correctly specified.\n",
       "[2] The condition number is large, 5.93e+03. This might indicate that there are\n",
       "strong multicollinearity or other numerical problems.\n",
       "\"\"\""
      ]
     },
     "execution_count": 130,
     "metadata": {},
     "output_type": "execute_result"
    }
   ],
   "source": [
    "# print out and interpret model summary // terms identified below\n",
    "model.summary()"
   ]
  },
  {
   "cell_type": "code",
   "execution_count": 131,
   "id": "2d4c2484",
   "metadata": {},
   "outputs": [
    {
     "data": {
      "text/plain": [
       "0.3757817446645887"
      ]
     },
     "execution_count": 131,
     "metadata": {},
     "output_type": "execute_result"
    }
   ],
   "source": [
    "reg.score(x_matrix,y_matrix) #r-squared"
   ]
  },
  {
   "cell_type": "code",
   "execution_count": 132,
   "id": "2f56a5af",
   "metadata": {},
   "outputs": [
    {
     "data": {
      "text/plain": [
       "array([[202.97753514]])"
      ]
     },
     "execution_count": 132,
     "metadata": {},
     "output_type": "execute_result"
    }
   ],
   "source": [
    "reg.coef_ #coefficient"
   ]
  },
  {
   "cell_type": "code",
   "execution_count": 133,
   "id": "526e7f2f",
   "metadata": {},
   "outputs": [],
   "source": [
    "from sklearn.feature_selection import f_regression"
   ]
  },
  {
   "cell_type": "code",
   "execution_count": 134,
   "id": "9802ae6f",
   "metadata": {},
   "outputs": [
    {
     "data": {
      "text/plain": [
       "(array([12313.38516564]), array([0.]))"
      ]
     },
     "execution_count": 134,
     "metadata": {},
     "output_type": "execute_result"
    }
   ],
   "source": [
    "f_regression(x_matrix, y) #f-statistic and p-value"
   ]
  },
  {
   "cell_type": "markdown",
   "id": "b77e98d8",
   "metadata": {},
   "source": [
    "Interpret the following from your model:\n",
    "\n",
    "- R-squared - 0.3922217637226223\n",
    "- Coefficient of independent variable - 146274.31432799\n",
    "- P-value of T-statistic - 0\n",
    "- P-value of F-statistic - 0"
   ]
  },
  {
   "cell_type": "markdown",
   "id": "240faf5b",
   "metadata": {},
   "source": [
    "### Step 6: Predict Values"
   ]
  },
  {
   "cell_type": "markdown",
   "id": "dfbf4cde",
   "metadata": {},
   "source": [
    "Solution below is for example only. Results may vary depending on variables chosen by student to use in linear regression model. "
   ]
  },
  {
   "cell_type": "code",
   "execution_count": 135,
   "id": "b2ccd4e8",
   "metadata": {},
   "outputs": [
    {
     "data": {
      "text/plain": [
       "array([93752.54002361])"
      ]
     },
     "execution_count": 135,
     "metadata": {},
     "output_type": "execute_result"
    }
   ],
   "source": [
    "# predict new y values (dependent variables) by feeding model new independent variable values\n",
    "model.predict([1,8])"
   ]
  },
  {
   "cell_type": "code",
   "execution_count": 136,
   "id": "09557ac3",
   "metadata": {},
   "outputs": [
    {
     "data": {
      "text/html": [
       "<div>\n",
       "<style scoped>\n",
       "    .dataframe tbody tr th:only-of-type {\n",
       "        vertical-align: middle;\n",
       "    }\n",
       "\n",
       "    .dataframe tbody tr th {\n",
       "        vertical-align: top;\n",
       "    }\n",
       "\n",
       "    .dataframe thead th {\n",
       "        text-align: right;\n",
       "    }\n",
       "</style>\n",
       "<table border=\"1\" class=\"dataframe\">\n",
       "  <thead>\n",
       "    <tr style=\"text-align: right;\">\n",
       "      <th></th>\n",
       "      <th>constant</th>\n",
       "      <th>grade</th>\n",
       "    </tr>\n",
       "  </thead>\n",
       "  <tbody>\n",
       "    <tr>\n",
       "      <th>0</th>\n",
       "      <td>1</td>\n",
       "      <td>8</td>\n",
       "    </tr>\n",
       "    <tr>\n",
       "      <th>1</th>\n",
       "      <td>1</td>\n",
       "      <td>15</td>\n",
       "    </tr>\n",
       "  </tbody>\n",
       "</table>\n",
       "</div>"
      ],
      "text/plain": [
       "   constant  grade\n",
       "0         1      8\n",
       "1         1     15"
      ]
     },
     "execution_count": 136,
     "metadata": {},
     "output_type": "execute_result"
    }
   ],
   "source": [
    "prediction_df=pd.DataFrame({'constant':1, 'grade': [8,15]}) #can also predict for multiple numbers creating a dataframe\n",
    "prediction_df"
   ]
  },
  {
   "cell_type": "code",
   "execution_count": 137,
   "id": "a0800fd5",
   "metadata": {},
   "outputs": [
    {
     "data": {
      "text/plain": [
       "0   93752.54\n",
       "1   95173.38\n",
       "dtype: float64"
      ]
     },
     "execution_count": 137,
     "metadata": {},
     "output_type": "execute_result"
    }
   ],
   "source": [
    "model.predict(prediction_df)"
   ]
  },
  {
   "cell_type": "code",
   "execution_count": 138,
   "id": "52c826fe",
   "metadata": {},
   "outputs": [
    {
     "data": {
      "text/html": [
       "<div>\n",
       "<style scoped>\n",
       "    .dataframe tbody tr th:only-of-type {\n",
       "        vertical-align: middle;\n",
       "    }\n",
       "\n",
       "    .dataframe tbody tr th {\n",
       "        vertical-align: top;\n",
       "    }\n",
       "\n",
       "    .dataframe thead th {\n",
       "        text-align: right;\n",
       "    }\n",
       "</style>\n",
       "<table border=\"1\" class=\"dataframe\">\n",
       "  <thead>\n",
       "    <tr style=\"text-align: right;\">\n",
       "      <th></th>\n",
       "      <th>constant</th>\n",
       "      <th>grade</th>\n",
       "      <th>price_prediction</th>\n",
       "    </tr>\n",
       "  </thead>\n",
       "  <tbody>\n",
       "    <tr>\n",
       "      <th>0</th>\n",
       "      <td>1</td>\n",
       "      <td>8</td>\n",
       "      <td>93752.54</td>\n",
       "    </tr>\n",
       "    <tr>\n",
       "      <th>1</th>\n",
       "      <td>1</td>\n",
       "      <td>15</td>\n",
       "      <td>95173.38</td>\n",
       "    </tr>\n",
       "  </tbody>\n",
       "</table>\n",
       "</div>"
      ],
      "text/plain": [
       "   constant  grade  price_prediction\n",
       "0         1      8          93752.54\n",
       "1         1     15          95173.38"
      ]
     },
     "execution_count": 138,
     "metadata": {},
     "output_type": "execute_result"
    }
   ],
   "source": [
    "prediction_df['price_prediction']=model.predict(prediction_df)\n",
    "prediction_df"
   ]
  },
  {
   "cell_type": "markdown",
   "id": "34b4cfd1",
   "metadata": {},
   "source": [
    "# Part 3 - Multiple Linear Regression"
   ]
  },
  {
   "cell_type": "markdown",
   "id": "a055f1f6",
   "metadata": {},
   "source": [
    "### Step 1: From Data Exploration in Part 2, Pick Another Independent Variable "
   ]
  },
  {
   "cell_type": "code",
   "execution_count": 169,
   "id": "e73ac274",
   "metadata": {},
   "outputs": [],
   "source": [
    "# Pick another independent variable. Be sure to avoid multicollinearity. "
   ]
  },
  {
   "cell_type": "code",
   "execution_count": 167,
   "id": "da69ad21",
   "metadata": {},
   "outputs": [],
   "source": [
    "y_corr2=(corr_matrix.price, corr_matrix.grade)"
   ]
  },
  {
   "cell_type": "code",
   "execution_count": 168,
   "id": "7f2c29cd",
   "metadata": {},
   "outputs": [
    {
     "data": {
      "image/png": "[encoded data removed]",
      "text/plain": [
       "<Figure size 640x480 with 2 Axes>"
      ]
     },
     "metadata": {},
     "output_type": "display_data"
    }
   ],
   "source": [
    "sns.heatmap(y_corr2, cmap='RdBu_r',vmax=1, vmin=-1, yticklabels=(\"Price\",\"Grade\"), xticklabels=('date', 'price', \n",
    "            'bedrooms', 'bathrooms', 'sqft_living','sqft_lot', 'floors', 'waterfront', 'view', 'house_condition', \n",
    "            'grade','sqft_above', 'sqft_basement', 'year_built', 'zipcode', 'lat', 'long','sqft_living_15'));"
   ]
  },
  {
   "cell_type": "code",
   "execution_count": 140,
   "id": "14be4721",
   "metadata": {},
   "outputs": [],
   "source": [
    "#columns('date', 'price', 'bedrooms', 'bathrooms', 'sqft_living','sqft_lot', 'floors', 'waterfront', 'view', 'house_condition', 'grade','sqft_above', 'sqft_basement', 'year_built', 'zipcode', 'lat', 'long','sqft_living_15')"
   ]
  },
  {
   "cell_type": "code",
   "execution_count": 203,
   "id": "9e7692a0",
   "metadata": {},
   "outputs": [],
   "source": [
    "from statsmodels.stats.outliers_influence import variance_inflation_factor\n",
    "variables=df[['grade', 'sqft_living']]\n",
    "vif=pd.DataFrame()\n",
    "vif['VIF'] = [variance_inflation_factor(variables.values, i) for i in range(variables.shape[1])]\n",
    "vif['features']=variables.columns"
   ]
  },
  {
   "cell_type": "code",
   "execution_count": 204,
   "id": "2a29cfeb",
   "metadata": {},
   "outputs": [
    {
     "data": {
      "text/html": [
       "<div>\n",
       "<style scoped>\n",
       "    .dataframe tbody tr th:only-of-type {\n",
       "        vertical-align: middle;\n",
       "    }\n",
       "\n",
       "    .dataframe tbody tr th {\n",
       "        vertical-align: top;\n",
       "    }\n",
       "\n",
       "    .dataframe thead th {\n",
       "        text-align: right;\n",
       "    }\n",
       "</style>\n",
       "<table border=\"1\" class=\"dataframe\">\n",
       "  <thead>\n",
       "    <tr style=\"text-align: right;\">\n",
       "      <th></th>\n",
       "      <th>VIF</th>\n",
       "      <th>features</th>\n",
       "    </tr>\n",
       "  </thead>\n",
       "  <tbody>\n",
       "    <tr>\n",
       "      <th>0</th>\n",
       "      <td>13.25</td>\n",
       "      <td>grade</td>\n",
       "    </tr>\n",
       "    <tr>\n",
       "      <th>1</th>\n",
       "      <td>13.25</td>\n",
       "      <td>sqft_living</td>\n",
       "    </tr>\n",
       "  </tbody>\n",
       "</table>\n",
       "</div>"
      ],
      "text/plain": [
       "    VIF     features\n",
       "0 13.25        grade\n",
       "1 13.25  sqft_living"
      ]
     },
     "execution_count": 204,
     "metadata": {},
     "output_type": "execute_result"
    }
   ],
   "source": [
    "vif #vif =1 no multicollinearity, vif between 1-5 ok, vif above 5 unacceptable\n",
    "#there is nothing that correlates with price and not grade."
   ]
  },
  {
   "cell_type": "markdown",
   "id": "8434f441",
   "metadata": {},
   "source": [
    "### Step 2: Fit A New Multiple Linear Regression Model to the New Independent Variables"
   ]
  },
  {
   "cell_type": "markdown",
   "id": "29cc17a7",
   "metadata": {},
   "source": [
    "Solution below is for example only. Results may vary depending on variables chosen by student to use in linear regression model. "
   ]
  },
  {
   "cell_type": "code",
   "execution_count": 256,
   "id": "fc9ba21a",
   "metadata": {},
   "outputs": [],
   "source": [
    "# fit new regression model (you will need to make more cells)\n",
    "x2=df[['grade', 'sqft_living']]\n"
   ]
  },
  {
   "cell_type": "code",
   "execution_count": 257,
   "id": "58457f20",
   "metadata": {},
   "outputs": [],
   "source": [
    "x2_matrix=sm.add_constant(x2)"
   ]
  },
  {
   "cell_type": "code",
   "execution_count": 260,
   "id": "9d2e3345",
   "metadata": {},
   "outputs": [],
   "source": [
    "model2=sm.OLS(y,x2_matrix).fit()"
   ]
  },
  {
   "cell_type": "markdown",
   "id": "35797232",
   "metadata": {},
   "source": [
    "### Step 3: Interpret Model Summary "
   ]
  },
  {
   "cell_type": "code",
   "execution_count": 261,
   "id": "8b8563ee",
   "metadata": {},
   "outputs": [
    {
     "data": {
      "text/html": [
       "<table class=\"simpletable\">\n",
       "<caption>OLS Regression Results</caption>\n",
       "<tr>\n",
       "  <th>Dep. Variable:</th>          <td>price</td>      <th>  R-squared:         </th>  <td>   0.452</td>  \n",
       "</tr>\n",
       "<tr>\n",
       "  <th>Model:</th>                   <td>OLS</td>       <th>  Adj. R-squared:    </th>  <td>   0.451</td>  \n",
       "</tr>\n",
       "<tr>\n",
       "  <th>Method:</th>             <td>Least Squares</td>  <th>  F-statistic:       </th>  <td>   8419.</td>  \n",
       "</tr>\n",
       "<tr>\n",
       "  <th>Date:</th>             <td>Tue, 01 Nov 2022</td> <th>  Prob (F-statistic):</th>   <td>  0.00</td>   \n",
       "</tr>\n",
       "<tr>\n",
       "  <th>Time:</th>                 <td>14:03:21</td>     <th>  Log-Likelihood:    </th> <td>-2.7629e+05</td>\n",
       "</tr>\n",
       "<tr>\n",
       "  <th>No. Observations:</th>      <td> 20456</td>      <th>  AIC:               </th>  <td>5.526e+05</td> \n",
       "</tr>\n",
       "<tr>\n",
       "  <th>Df Residuals:</th>          <td> 20453</td>      <th>  BIC:               </th>  <td>5.526e+05</td> \n",
       "</tr>\n",
       "<tr>\n",
       "  <th>Df Model:</th>              <td>     2</td>      <th>                     </th>      <td> </td>     \n",
       "</tr>\n",
       "<tr>\n",
       "  <th>Covariance Type:</th>      <td>nonrobust</td>    <th>                     </th>      <td> </td>     \n",
       "</tr>\n",
       "</table>\n",
       "<table class=\"simpletable\">\n",
       "<tr>\n",
       "       <td></td>          <th>coef</th>     <th>std err</th>      <th>t</th>      <th>P>|t|</th>  <th>[0.025</th>    <th>0.975]</th>  \n",
       "</tr>\n",
       "<tr>\n",
       "  <th>const</th>       <td>-4.116e+05</td> <td> 1.01e+04</td> <td>  -40.665</td> <td> 0.000</td> <td>-4.31e+05</td> <td>-3.92e+05</td>\n",
       "</tr>\n",
       "<tr>\n",
       "  <th>grade</th>       <td> 9.023e+04</td> <td> 1697.513</td> <td>   53.153</td> <td> 0.000</td> <td> 8.69e+04</td> <td> 9.36e+04</td>\n",
       "</tr>\n",
       "<tr>\n",
       "  <th>sqft_living</th> <td>  113.2243</td> <td>    2.407</td> <td>   47.049</td> <td> 0.000</td> <td>  108.507</td> <td>  117.941</td>\n",
       "</tr>\n",
       "</table>\n",
       "<table class=\"simpletable\">\n",
       "<tr>\n",
       "  <th>Omnibus:</th>       <td>4053.224</td> <th>  Durbin-Watson:     </th> <td>   1.921</td>\n",
       "</tr>\n",
       "<tr>\n",
       "  <th>Prob(Omnibus):</th>  <td> 0.000</td>  <th>  Jarque-Bera (JB):  </th> <td>9767.719</td>\n",
       "</tr>\n",
       "<tr>\n",
       "  <th>Skew:</th>           <td> 1.109</td>  <th>  Prob(JB):          </th> <td>    0.00</td>\n",
       "</tr>\n",
       "<tr>\n",
       "  <th>Kurtosis:</th>       <td> 5.558</td>  <th>  Cond. No.          </th> <td>1.71e+04</td>\n",
       "</tr>\n",
       "</table><br/><br/>Notes:<br/>[1] Standard Errors assume that the covariance matrix of the errors is correctly specified.<br/>[2] The condition number is large, 1.71e+04. This might indicate that there are<br/>strong multicollinearity or other numerical problems."
      ],
      "text/plain": [
       "<class 'statsmodels.iolib.summary.Summary'>\n",
       "\"\"\"\n",
       "                            OLS Regression Results                            \n",
       "==============================================================================\n",
       "Dep. Variable:                  price   R-squared:                       0.452\n",
       "Model:                            OLS   Adj. R-squared:                  0.451\n",
       "Method:                 Least Squares   F-statistic:                     8419.\n",
       "Date:                Tue, 01 Nov 2022   Prob (F-statistic):               0.00\n",
       "Time:                        14:03:21   Log-Likelihood:            -2.7629e+05\n",
       "No. Observations:               20456   AIC:                         5.526e+05\n",
       "Df Residuals:                   20453   BIC:                         5.526e+05\n",
       "Df Model:                           2                                         \n",
       "Covariance Type:            nonrobust                                         \n",
       "===============================================================================\n",
       "                  coef    std err          t      P>|t|      [0.025      0.975]\n",
       "-------------------------------------------------------------------------------\n",
       "const       -4.116e+05   1.01e+04    -40.665      0.000   -4.31e+05   -3.92e+05\n",
       "grade        9.023e+04   1697.513     53.153      0.000    8.69e+04    9.36e+04\n",
       "sqft_living   113.2243      2.407     47.049      0.000     108.507     117.941\n",
       "==============================================================================\n",
       "Omnibus:                     4053.224   Durbin-Watson:                   1.921\n",
       "Prob(Omnibus):                  0.000   Jarque-Bera (JB):             9767.719\n",
       "Skew:                           1.109   Prob(JB):                         0.00\n",
       "Kurtosis:                       5.558   Cond. No.                     1.71e+04\n",
       "==============================================================================\n",
       "\n",
       "Notes:\n",
       "[1] Standard Errors assume that the covariance matrix of the errors is correctly specified.\n",
       "[2] The condition number is large, 1.71e+04. This might indicate that there are\n",
       "strong multicollinearity or other numerical problems.\n",
       "\"\"\""
      ]
     },
     "execution_count": 261,
     "metadata": {},
     "output_type": "execute_result"
    }
   ],
   "source": [
    "model2.summary()"
   ]
  },
  {
   "cell_type": "markdown",
   "id": "d551ad1d",
   "metadata": {},
   "source": [
    "Print the output of the results summary from your model. Interpret the following parts of your results summary. Include an explanation of what the given numbers mean in regards to your model.\n",
    "- R-squared - 0.452 - the closer to 1 the better.  This is a little better than just using grade; adding in sqft makes it fit the data a little more\n",
    "- Adjusted R-squared - 0.451 - better compared to just the grade model, but still only 45% accurate\n",
    "- Coefficient of independent variables - grade 90230., sqft 113.22 - the slopes of the 2 lines\n",
    "- P-value of T-statistic - 0.00 - these are good independent variables\n",
    "- P-value of F-statistic - 0.00 - good variables to use"
   ]
  },
  {
   "cell_type": "markdown",
   "id": "b6e3a121",
   "metadata": {},
   "source": [
    "If you would like, continue to create new linear models as you add more than two independent variables. Notice the differences in the R-Squared values you get from each model. "
   ]
  },
  {
   "cell_type": "code",
   "execution_count": 282,
   "id": "07c86274",
   "metadata": {},
   "outputs": [],
   "source": [
    "x3=df[['grade', 'sqft_living', 'lat']]"
   ]
  },
  {
   "cell_type": "code",
   "execution_count": 283,
   "id": "b83f13a0",
   "metadata": {},
   "outputs": [],
   "source": [
    "x3_matrix=sm.add_constant(x3)"
   ]
  },
  {
   "cell_type": "code",
   "execution_count": 284,
   "id": "9cad8071",
   "metadata": {},
   "outputs": [
    {
     "data": {
      "text/html": [
       "<div>\n",
       "<style scoped>\n",
       "    .dataframe tbody tr th:only-of-type {\n",
       "        vertical-align: middle;\n",
       "    }\n",
       "\n",
       "    .dataframe tbody tr th {\n",
       "        vertical-align: top;\n",
       "    }\n",
       "\n",
       "    .dataframe thead th {\n",
       "        text-align: right;\n",
       "    }\n",
       "</style>\n",
       "<table border=\"1\" class=\"dataframe\">\n",
       "  <thead>\n",
       "    <tr style=\"text-align: right;\">\n",
       "      <th></th>\n",
       "      <th>const</th>\n",
       "      <th>grade</th>\n",
       "      <th>sqft_living</th>\n",
       "      <th>lat</th>\n",
       "    </tr>\n",
       "  </thead>\n",
       "  <tbody>\n",
       "    <tr>\n",
       "      <th>0</th>\n",
       "      <td>1.00</td>\n",
       "      <td>7.00</td>\n",
       "      <td>1180</td>\n",
       "      <td>47.51</td>\n",
       "    </tr>\n",
       "    <tr>\n",
       "      <th>1</th>\n",
       "      <td>1.00</td>\n",
       "      <td>7.00</td>\n",
       "      <td>2570</td>\n",
       "      <td>47.72</td>\n",
       "    </tr>\n",
       "    <tr>\n",
       "      <th>2</th>\n",
       "      <td>1.00</td>\n",
       "      <td>6.00</td>\n",
       "      <td>770</td>\n",
       "      <td>47.74</td>\n",
       "    </tr>\n",
       "    <tr>\n",
       "      <th>3</th>\n",
       "      <td>1.00</td>\n",
       "      <td>7.00</td>\n",
       "      <td>1960</td>\n",
       "      <td>47.52</td>\n",
       "    </tr>\n",
       "    <tr>\n",
       "      <th>4</th>\n",
       "      <td>1.00</td>\n",
       "      <td>8.00</td>\n",
       "      <td>1680</td>\n",
       "      <td>47.62</td>\n",
       "    </tr>\n",
       "    <tr>\n",
       "      <th>...</th>\n",
       "      <td>...</td>\n",
       "      <td>...</td>\n",
       "      <td>...</td>\n",
       "      <td>...</td>\n",
       "    </tr>\n",
       "    <tr>\n",
       "      <th>20451</th>\n",
       "      <td>1.00</td>\n",
       "      <td>8.00</td>\n",
       "      <td>1310</td>\n",
       "      <td>47.58</td>\n",
       "    </tr>\n",
       "    <tr>\n",
       "      <th>20452</th>\n",
       "      <td>1.00</td>\n",
       "      <td>8.00</td>\n",
       "      <td>1530</td>\n",
       "      <td>47.70</td>\n",
       "    </tr>\n",
       "    <tr>\n",
       "      <th>20453</th>\n",
       "      <td>1.00</td>\n",
       "      <td>8.00</td>\n",
       "      <td>2310</td>\n",
       "      <td>47.51</td>\n",
       "    </tr>\n",
       "    <tr>\n",
       "      <th>20454</th>\n",
       "      <td>1.00</td>\n",
       "      <td>8.00</td>\n",
       "      <td>1600</td>\n",
       "      <td>47.53</td>\n",
       "    </tr>\n",
       "    <tr>\n",
       "      <th>20455</th>\n",
       "      <td>1.00</td>\n",
       "      <td>7.00</td>\n",
       "      <td>1020</td>\n",
       "      <td>47.59</td>\n",
       "    </tr>\n",
       "  </tbody>\n",
       "</table>\n",
       "<p>20456 rows × 4 columns</p>\n",
       "</div>"
      ],
      "text/plain": [
       "       const  grade  sqft_living   lat\n",
       "0       1.00   7.00         1180 47.51\n",
       "1       1.00   7.00         2570 47.72\n",
       "2       1.00   6.00          770 47.74\n",
       "3       1.00   7.00         1960 47.52\n",
       "4       1.00   8.00         1680 47.62\n",
       "...      ...    ...          ...   ...\n",
       "20451   1.00   8.00         1310 47.58\n",
       "20452   1.00   8.00         1530 47.70\n",
       "20453   1.00   8.00         2310 47.51\n",
       "20454   1.00   8.00         1600 47.53\n",
       "20455   1.00   7.00         1020 47.59\n",
       "\n",
       "[20456 rows x 4 columns]"
      ]
     },
     "execution_count": 284,
     "metadata": {},
     "output_type": "execute_result"
    }
   ],
   "source": [
    "x3_matrix"
   ]
  },
  {
   "cell_type": "code",
   "execution_count": 285,
   "id": "63e4ec47",
   "metadata": {},
   "outputs": [],
   "source": [
    "model3=sm.OLS(y,x3_matrix).fit()"
   ]
  },
  {
   "cell_type": "code",
   "execution_count": 281,
   "id": "bff53511",
   "metadata": {},
   "outputs": [
    {
     "data": {
      "text/html": [
       "<table class=\"simpletable\">\n",
       "<caption>OLS Regression Results</caption>\n",
       "<tr>\n",
       "  <th>Dep. Variable:</th>          <td>price</td>      <th>  R-squared:         </th>  <td>   0.588</td>  \n",
       "</tr>\n",
       "<tr>\n",
       "  <th>Model:</th>                   <td>OLS</td>       <th>  Adj. R-squared:    </th>  <td>   0.588</td>  \n",
       "</tr>\n",
       "<tr>\n",
       "  <th>Method:</th>             <td>Least Squares</td>  <th>  F-statistic:       </th>  <td>   7299.</td>  \n",
       "</tr>\n",
       "<tr>\n",
       "  <th>Date:</th>             <td>Tue, 01 Nov 2022</td> <th>  Prob (F-statistic):</th>   <td>  0.00</td>   \n",
       "</tr>\n",
       "<tr>\n",
       "  <th>Time:</th>                 <td>14:11:28</td>     <th>  Log-Likelihood:    </th> <td>-2.7336e+05</td>\n",
       "</tr>\n",
       "<tr>\n",
       "  <th>No. Observations:</th>      <td> 20456</td>      <th>  AIC:               </th>  <td>5.467e+05</td> \n",
       "</tr>\n",
       "<tr>\n",
       "  <th>Df Residuals:</th>          <td> 20451</td>      <th>  BIC:               </th>  <td>5.468e+05</td> \n",
       "</tr>\n",
       "<tr>\n",
       "  <th>Df Model:</th>              <td>     4</td>      <th>                     </th>      <td> </td>     \n",
       "</tr>\n",
       "<tr>\n",
       "  <th>Covariance Type:</th>      <td>nonrobust</td>    <th>                     </th>      <td> </td>     \n",
       "</tr>\n",
       "</table>\n",
       "<table class=\"simpletable\">\n",
       "<tr>\n",
       "         <td></td>           <th>coef</th>     <th>std err</th>      <th>t</th>      <th>P>|t|</th>  <th>[0.025</th>    <th>0.975]</th>  \n",
       "</tr>\n",
       "<tr>\n",
       "  <th>const</th>          <td>-3.048e+07</td> <td> 3.69e+05</td> <td>  -82.498</td> <td> 0.000</td> <td>-3.12e+07</td> <td>-2.98e+07</td>\n",
       "</tr>\n",
       "<tr>\n",
       "  <th>grade</th>          <td> 6.917e+04</td> <td> 1552.988</td> <td>   44.542</td> <td> 0.000</td> <td> 6.61e+04</td> <td> 7.22e+04</td>\n",
       "</tr>\n",
       "<tr>\n",
       "  <th>sqft_living</th>    <td>  105.7224</td> <td>    2.406</td> <td>   43.936</td> <td> 0.000</td> <td>  101.006</td> <td>  110.439</td>\n",
       "</tr>\n",
       "<tr>\n",
       "  <th>sqft_living_15</th> <td>   40.9891</td> <td>    2.813</td> <td>   14.569</td> <td> 0.000</td> <td>   35.475</td> <td>   46.504</td>\n",
       "</tr>\n",
       "<tr>\n",
       "  <th>lat</th>            <td> 6.342e+05</td> <td> 7788.909</td> <td>   81.422</td> <td> 0.000</td> <td> 6.19e+05</td> <td> 6.49e+05</td>\n",
       "</tr>\n",
       "</table>\n",
       "<table class=\"simpletable\">\n",
       "<tr>\n",
       "  <th>Omnibus:</th>       <td>6063.214</td> <th>  Durbin-Watson:     </th> <td>   1.926</td> \n",
       "</tr>\n",
       "<tr>\n",
       "  <th>Prob(Omnibus):</th>  <td> 0.000</td>  <th>  Jarque-Bera (JB):  </th> <td>22620.387</td>\n",
       "</tr>\n",
       "<tr>\n",
       "  <th>Skew:</th>           <td> 1.453</td>  <th>  Prob(JB):          </th> <td>    0.00</td> \n",
       "</tr>\n",
       "<tr>\n",
       "  <th>Kurtosis:</th>       <td> 7.253</td>  <th>  Cond. No.          </th> <td>9.79e+05</td> \n",
       "</tr>\n",
       "</table><br/><br/>Notes:<br/>[1] Standard Errors assume that the covariance matrix of the errors is correctly specified.<br/>[2] The condition number is large, 9.79e+05. This might indicate that there are<br/>strong multicollinearity or other numerical problems."
      ],
      "text/plain": [
       "<class 'statsmodels.iolib.summary.Summary'>\n",
       "\"\"\"\n",
       "                            OLS Regression Results                            \n",
       "==============================================================================\n",
       "Dep. Variable:                  price   R-squared:                       0.588\n",
       "Model:                            OLS   Adj. R-squared:                  0.588\n",
       "Method:                 Least Squares   F-statistic:                     7299.\n",
       "Date:                Tue, 01 Nov 2022   Prob (F-statistic):               0.00\n",
       "Time:                        14:11:28   Log-Likelihood:            -2.7336e+05\n",
       "No. Observations:               20456   AIC:                         5.467e+05\n",
       "Df Residuals:                   20451   BIC:                         5.468e+05\n",
       "Df Model:                           4                                         \n",
       "Covariance Type:            nonrobust                                         \n",
       "==================================================================================\n",
       "                     coef    std err          t      P>|t|      [0.025      0.975]\n",
       "----------------------------------------------------------------------------------\n",
       "const          -3.048e+07   3.69e+05    -82.498      0.000   -3.12e+07   -2.98e+07\n",
       "grade           6.917e+04   1552.988     44.542      0.000    6.61e+04    7.22e+04\n",
       "sqft_living      105.7224      2.406     43.936      0.000     101.006     110.439\n",
       "sqft_living_15    40.9891      2.813     14.569      0.000      35.475      46.504\n",
       "lat             6.342e+05   7788.909     81.422      0.000    6.19e+05    6.49e+05\n",
       "==============================================================================\n",
       "Omnibus:                     6063.214   Durbin-Watson:                   1.926\n",
       "Prob(Omnibus):                  0.000   Jarque-Bera (JB):            22620.387\n",
       "Skew:                           1.453   Prob(JB):                         0.00\n",
       "Kurtosis:                       7.253   Cond. No.                     9.79e+05\n",
       "==============================================================================\n",
       "\n",
       "Notes:\n",
       "[1] Standard Errors assume that the covariance matrix of the errors is correctly specified.\n",
       "[2] The condition number is large, 9.79e+05. This might indicate that there are\n",
       "strong multicollinearity or other numerical problems.\n",
       "\"\"\""
      ]
     },
     "execution_count": 281,
     "metadata": {},
     "output_type": "execute_result"
    }
   ],
   "source": [
    "model3.summary()"
   ]
  },
  {
   "cell_type": "markdown",
   "id": "557440ed",
   "metadata": {},
   "source": [
    "### Step 4: Predict Values"
   ]
  },
  {
   "cell_type": "code",
   "execution_count": 286,
   "id": "7c9cc5f1",
   "metadata": {},
   "outputs": [
    {
     "data": {
      "text/plain": [
       "array([536718.21083612])"
      ]
     },
     "execution_count": 286,
     "metadata": {},
     "output_type": "execute_result"
    }
   ],
   "source": [
    "# predict new y values (dependent variables) by feeding model new independent variable values\n",
    "model2.predict([1,8,2000]) #[constant, grade, sqft_living] = new price"
   ]
  },
  {
   "cell_type": "code",
   "execution_count": 288,
   "id": "731ba9ba",
   "metadata": {},
   "outputs": [
    {
     "data": {
      "text/plain": [
       "array([638119.16379829])"
      ]
     },
     "execution_count": 288,
     "metadata": {},
     "output_type": "execute_result"
    }
   ],
   "source": [
    "model3.predict([1,8,2000,47.73])"
   ]
  },
  {
   "cell_type": "markdown",
   "id": "a5ba4519",
   "metadata": {},
   "source": [
    "### Step 5: Report Observations in Difference Between Simple and Multiple Linear Regression Models You Made "
   ]
  },
  {
   "cell_type": "code",
   "execution_count": 147,
   "id": "12371f0b",
   "metadata": {},
   "outputs": [],
   "source": [
    "# create new markdown cell and write down your observations"
   ]
  },
  {
   "cell_type": "markdown",
   "id": "7d0e1717",
   "metadata": {},
   "source": [
    "the more critera added that had a high correlation with the price the more accurate the information(prediciton) should be.  I'm not seeing much of an issue with multicollinearity with this data because any increase in one column should increase the price. The single linear regression definitely needs more criteria to get an accurate price estimate. Using a multi linear regression helped predict a more realistic price.  There was a price difference of over $440k with a grade of 8 when the sq footage was added in.  And adding in part of the location increased the price by another $100k."
   ]
  },
  {
   "cell_type": "markdown",
   "id": "0f7b1126",
   "metadata": {},
   "source": [
    "# Part 4 - Multivariate Time Series Analysis"
   ]
  },
  {
   "cell_type": "code",
   "execution_count": 148,
   "id": "2bd87209",
   "metadata": {},
   "outputs": [],
   "source": [
    "# complete the time series analysis exercise separately from data-time-series folder"
   ]
  },
  {
   "cell_type": "markdown",
   "id": "340e64e4",
   "metadata": {},
   "source": [
    "# Part 5 - Submit Project "
   ]
  }
 ],
 "metadata": {
  "kernelspec": {
   "display_name": "Python 3 (ipykernel)",
   "language": "python",
   "name": "python3"
  },
  "language_info": {
   "codemirror_mode": {
    "name": "ipython",
    "version": 3
   },
   "file_extension": ".py",
   "mimetype": "text/x-python",
   "name": "python",
   "nbconvert_exporter": "python",
   "pygments_lexer": "ipython3",
   "version": "3.9.13"
  }
 },
 "nbformat": 4,
 "nbformat_minor": 5
}
